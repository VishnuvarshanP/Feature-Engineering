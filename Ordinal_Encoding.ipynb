{
  "nbformat": 4,
  "nbformat_minor": 0,
  "metadata": {
    "colab": {
      "name": "Ordinal Encoding.ipynb",
      "provenance": [],
      "collapsed_sections": []
    },
    "kernelspec": {
      "name": "python3",
      "display_name": "Python 3"
    },
    "language_info": {
      "name": "python"
    }
  },
  "cells": [
    {
      "cell_type": "code",
      "metadata": {
        "id": "VZziF4ufAVlV"
      },
      "source": [
        "# we can rank these categories #eg: salary based on degree\n",
        "#student with grades A is higher than B or C"
      ],
      "execution_count": 1,
      "outputs": []
    },
    {
      "cell_type": "code",
      "metadata": {
        "id": "-40c5aLhA3hg"
      },
      "source": [
        "import pandas as pd\n",
        "import datetime"
      ],
      "execution_count": 2,
      "outputs": []
    },
    {
      "cell_type": "code",
      "metadata": {
        "colab": {
          "base_uri": "https://localhost:8080/",
          "height": 665
        },
        "id": "wnt8IfK9A53q",
        "outputId": "8c9e5ce7-a4a5-4b98-a486-5257c4d518d4"
      },
      "source": [
        "df_base = datetime.datetime.today()\n",
        "#list of dates with 20 days difference from today\n",
        "df_date_list = [df_base - datetime.timedelta(days=x) for x in range(0,20)]\n",
        "df = pd.DataFrame(df_date_list)\n",
        "df.columns = ['day']\n",
        "df"
      ],
      "execution_count": 5,
      "outputs": [
        {
          "output_type": "execute_result",
          "data": {
            "text/html": [
              "<div>\n",
              "<style scoped>\n",
              "    .dataframe tbody tr th:only-of-type {\n",
              "        vertical-align: middle;\n",
              "    }\n",
              "\n",
              "    .dataframe tbody tr th {\n",
              "        vertical-align: top;\n",
              "    }\n",
              "\n",
              "    .dataframe thead th {\n",
              "        text-align: right;\n",
              "    }\n",
              "</style>\n",
              "<table border=\"1\" class=\"dataframe\">\n",
              "  <thead>\n",
              "    <tr style=\"text-align: right;\">\n",
              "      <th></th>\n",
              "      <th>day</th>\n",
              "    </tr>\n",
              "  </thead>\n",
              "  <tbody>\n",
              "    <tr>\n",
              "      <th>0</th>\n",
              "      <td>2021-10-17 06:54:18.543698</td>\n",
              "    </tr>\n",
              "    <tr>\n",
              "      <th>1</th>\n",
              "      <td>2021-10-16 06:54:18.543698</td>\n",
              "    </tr>\n",
              "    <tr>\n",
              "      <th>2</th>\n",
              "      <td>2021-10-15 06:54:18.543698</td>\n",
              "    </tr>\n",
              "    <tr>\n",
              "      <th>3</th>\n",
              "      <td>2021-10-14 06:54:18.543698</td>\n",
              "    </tr>\n",
              "    <tr>\n",
              "      <th>4</th>\n",
              "      <td>2021-10-13 06:54:18.543698</td>\n",
              "    </tr>\n",
              "    <tr>\n",
              "      <th>5</th>\n",
              "      <td>2021-10-12 06:54:18.543698</td>\n",
              "    </tr>\n",
              "    <tr>\n",
              "      <th>6</th>\n",
              "      <td>2021-10-11 06:54:18.543698</td>\n",
              "    </tr>\n",
              "    <tr>\n",
              "      <th>7</th>\n",
              "      <td>2021-10-10 06:54:18.543698</td>\n",
              "    </tr>\n",
              "    <tr>\n",
              "      <th>8</th>\n",
              "      <td>2021-10-09 06:54:18.543698</td>\n",
              "    </tr>\n",
              "    <tr>\n",
              "      <th>9</th>\n",
              "      <td>2021-10-08 06:54:18.543698</td>\n",
              "    </tr>\n",
              "    <tr>\n",
              "      <th>10</th>\n",
              "      <td>2021-10-07 06:54:18.543698</td>\n",
              "    </tr>\n",
              "    <tr>\n",
              "      <th>11</th>\n",
              "      <td>2021-10-06 06:54:18.543698</td>\n",
              "    </tr>\n",
              "    <tr>\n",
              "      <th>12</th>\n",
              "      <td>2021-10-05 06:54:18.543698</td>\n",
              "    </tr>\n",
              "    <tr>\n",
              "      <th>13</th>\n",
              "      <td>2021-10-04 06:54:18.543698</td>\n",
              "    </tr>\n",
              "    <tr>\n",
              "      <th>14</th>\n",
              "      <td>2021-10-03 06:54:18.543698</td>\n",
              "    </tr>\n",
              "    <tr>\n",
              "      <th>15</th>\n",
              "      <td>2021-10-02 06:54:18.543698</td>\n",
              "    </tr>\n",
              "    <tr>\n",
              "      <th>16</th>\n",
              "      <td>2021-10-01 06:54:18.543698</td>\n",
              "    </tr>\n",
              "    <tr>\n",
              "      <th>17</th>\n",
              "      <td>2021-09-30 06:54:18.543698</td>\n",
              "    </tr>\n",
              "    <tr>\n",
              "      <th>18</th>\n",
              "      <td>2021-09-29 06:54:18.543698</td>\n",
              "    </tr>\n",
              "    <tr>\n",
              "      <th>19</th>\n",
              "      <td>2021-09-28 06:54:18.543698</td>\n",
              "    </tr>\n",
              "  </tbody>\n",
              "</table>\n",
              "</div>"
            ],
            "text/plain": [
              "                          day\n",
              "0  2021-10-17 06:54:18.543698\n",
              "1  2021-10-16 06:54:18.543698\n",
              "2  2021-10-15 06:54:18.543698\n",
              "3  2021-10-14 06:54:18.543698\n",
              "4  2021-10-13 06:54:18.543698\n",
              "5  2021-10-12 06:54:18.543698\n",
              "6  2021-10-11 06:54:18.543698\n",
              "7  2021-10-10 06:54:18.543698\n",
              "8  2021-10-09 06:54:18.543698\n",
              "9  2021-10-08 06:54:18.543698\n",
              "10 2021-10-07 06:54:18.543698\n",
              "11 2021-10-06 06:54:18.543698\n",
              "12 2021-10-05 06:54:18.543698\n",
              "13 2021-10-04 06:54:18.543698\n",
              "14 2021-10-03 06:54:18.543698\n",
              "15 2021-10-02 06:54:18.543698\n",
              "16 2021-10-01 06:54:18.543698\n",
              "17 2021-09-30 06:54:18.543698\n",
              "18 2021-09-29 06:54:18.543698\n",
              "19 2021-09-28 06:54:18.543698"
            ]
          },
          "metadata": {},
          "execution_count": 5
        }
      ]
    },
    {
      "cell_type": "code",
      "metadata": {
        "colab": {
          "base_uri": "https://localhost:8080/",
          "height": 203
        },
        "id": "0lxO6bqXBeKV",
        "outputId": "8def66f2-74cc-4151-96cf-52aebf67137c"
      },
      "source": [
        "#week day name\n",
        "df['day_of_week']=df['day'].dt.day_name()\n",
        "df.head()"
      ],
      "execution_count": 7,
      "outputs": [
        {
          "output_type": "execute_result",
          "data": {
            "text/html": [
              "<div>\n",
              "<style scoped>\n",
              "    .dataframe tbody tr th:only-of-type {\n",
              "        vertical-align: middle;\n",
              "    }\n",
              "\n",
              "    .dataframe tbody tr th {\n",
              "        vertical-align: top;\n",
              "    }\n",
              "\n",
              "    .dataframe thead th {\n",
              "        text-align: right;\n",
              "    }\n",
              "</style>\n",
              "<table border=\"1\" class=\"dataframe\">\n",
              "  <thead>\n",
              "    <tr style=\"text-align: right;\">\n",
              "      <th></th>\n",
              "      <th>day</th>\n",
              "      <th>day_of_week</th>\n",
              "    </tr>\n",
              "  </thead>\n",
              "  <tbody>\n",
              "    <tr>\n",
              "      <th>0</th>\n",
              "      <td>2021-10-17 06:54:18.543698</td>\n",
              "      <td>Sunday</td>\n",
              "    </tr>\n",
              "    <tr>\n",
              "      <th>1</th>\n",
              "      <td>2021-10-16 06:54:18.543698</td>\n",
              "      <td>Saturday</td>\n",
              "    </tr>\n",
              "    <tr>\n",
              "      <th>2</th>\n",
              "      <td>2021-10-15 06:54:18.543698</td>\n",
              "      <td>Friday</td>\n",
              "    </tr>\n",
              "    <tr>\n",
              "      <th>3</th>\n",
              "      <td>2021-10-14 06:54:18.543698</td>\n",
              "      <td>Thursday</td>\n",
              "    </tr>\n",
              "    <tr>\n",
              "      <th>4</th>\n",
              "      <td>2021-10-13 06:54:18.543698</td>\n",
              "      <td>Wednesday</td>\n",
              "    </tr>\n",
              "  </tbody>\n",
              "</table>\n",
              "</div>"
            ],
            "text/plain": [
              "                         day day_of_week\n",
              "0 2021-10-17 06:54:18.543698      Sunday\n",
              "1 2021-10-16 06:54:18.543698    Saturday\n",
              "2 2021-10-15 06:54:18.543698      Friday\n",
              "3 2021-10-14 06:54:18.543698    Thursday\n",
              "4 2021-10-13 06:54:18.543698   Wednesday"
            ]
          },
          "metadata": {},
          "execution_count": 7
        }
      ]
    },
    {
      "cell_type": "code",
      "metadata": {
        "id": "qms58DTaBfZO"
      },
      "source": [
        "#for ranking\n",
        "# map categorica variable by ordinal number replacement\n",
        "weekday_map = {\n",
        "    'Monday':1,\n",
        "    'Tuesday':2,\n",
        "    'Wednesday':3,\n",
        "    'Thursday':4,\n",
        "    'Friday':5,\n",
        "    'Saturday':6,\n",
        "    'Sunday':7\n",
        "    }\n",
        "df['day_ordinal'] = df['day_of_week'].map(weekday_map)"
      ],
      "execution_count": 8,
      "outputs": []
    },
    {
      "cell_type": "code",
      "metadata": {
        "colab": {
          "base_uri": "https://localhost:8080/",
          "height": 203
        },
        "id": "9riBz9BZDVOi",
        "outputId": "bca95b4b-1dfc-40a2-d288-8e30896c759a"
      },
      "source": [
        "df.head()"
      ],
      "execution_count": 9,
      "outputs": [
        {
          "output_type": "execute_result",
          "data": {
            "text/html": [
              "<div>\n",
              "<style scoped>\n",
              "    .dataframe tbody tr th:only-of-type {\n",
              "        vertical-align: middle;\n",
              "    }\n",
              "\n",
              "    .dataframe tbody tr th {\n",
              "        vertical-align: top;\n",
              "    }\n",
              "\n",
              "    .dataframe thead th {\n",
              "        text-align: right;\n",
              "    }\n",
              "</style>\n",
              "<table border=\"1\" class=\"dataframe\">\n",
              "  <thead>\n",
              "    <tr style=\"text-align: right;\">\n",
              "      <th></th>\n",
              "      <th>day</th>\n",
              "      <th>day_of_week</th>\n",
              "      <th>day_ordinal</th>\n",
              "    </tr>\n",
              "  </thead>\n",
              "  <tbody>\n",
              "    <tr>\n",
              "      <th>0</th>\n",
              "      <td>2021-10-17 06:54:18.543698</td>\n",
              "      <td>Sunday</td>\n",
              "      <td>7</td>\n",
              "    </tr>\n",
              "    <tr>\n",
              "      <th>1</th>\n",
              "      <td>2021-10-16 06:54:18.543698</td>\n",
              "      <td>Saturday</td>\n",
              "      <td>6</td>\n",
              "    </tr>\n",
              "    <tr>\n",
              "      <th>2</th>\n",
              "      <td>2021-10-15 06:54:18.543698</td>\n",
              "      <td>Friday</td>\n",
              "      <td>5</td>\n",
              "    </tr>\n",
              "    <tr>\n",
              "      <th>3</th>\n",
              "      <td>2021-10-14 06:54:18.543698</td>\n",
              "      <td>Thursday</td>\n",
              "      <td>4</td>\n",
              "    </tr>\n",
              "    <tr>\n",
              "      <th>4</th>\n",
              "      <td>2021-10-13 06:54:18.543698</td>\n",
              "      <td>Wednesday</td>\n",
              "      <td>3</td>\n",
              "    </tr>\n",
              "  </tbody>\n",
              "</table>\n",
              "</div>"
            ],
            "text/plain": [
              "                         day day_of_week  day_ordinal\n",
              "0 2021-10-17 06:54:18.543698      Sunday            7\n",
              "1 2021-10-16 06:54:18.543698    Saturday            6\n",
              "2 2021-10-15 06:54:18.543698      Friday            5\n",
              "3 2021-10-14 06:54:18.543698    Thursday            4\n",
              "4 2021-10-13 06:54:18.543698   Wednesday            3"
            ]
          },
          "metadata": {},
          "execution_count": 9
        }
      ]
    }
  ]
}